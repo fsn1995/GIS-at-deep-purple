{
 "metadata": {
  "language_info": {
   "codemirror_mode": {
    "name": "ipython",
    "version": 3
   },
   "file_extension": ".py",
   "mimetype": "text/x-python",
   "name": "python",
   "nbconvert_exporter": "python",
   "pygments_lexer": "ipython3",
   "version": "3.8.0-final"
  },
  "orig_nbformat": 2,
  "kernelspec": {
   "name": "python3",
   "display_name": "Python 3.8.0 64-bit ('gee': conda)",
   "metadata": {
    "interpreter": {
     "hash": "ada930dfaf49c70a7ee64ff67ccb5b3fcbf1b37de14f1a925a66f2c79ddc67d5"
    }
   }
  }
 },
 "nbformat": 4,
 "nbformat_minor": 2,
 "cells": [
  {
   "cell_type": "code",
   "execution_count": 1,
   "metadata": {},
   "outputs": [],
   "source": [
    "import ee\n",
    "# if in colab:\n",
    "# !pip install geemap\n",
    "import geemap\n",
    "# import geemap.colormaps as cm\n",
    "# ref: https://mygeoblog.com/2017/01/28/contour-lines-in-gee/"
   ]
  },
  {
   "cell_type": "code",
   "execution_count": 2,
   "metadata": {},
   "outputs": [
    {
     "output_type": "display_data",
     "data": {
      "text/plain": "Map(center=[40, -100], controls=(WidgetControl(options=['position', 'transparent_bg'], widget=HBox(children=(T…",
      "application/vnd.jupyter.widget-view+json": {
       "version_major": 2,
       "version_minor": 0,
       "model_id": "cdcb04e704174eeba3a8c86895d98ad9"
      }
     },
     "metadata": {}
    }
   ],
   "source": [
    "Map = geemap.Map()\n",
    "Map # comment this line if in colab"
   ]
  },
  {
   "cell_type": "code",
   "execution_count": 3,
   "metadata": {},
   "outputs": [],
   "source": [
    "arcticDEM = ee.Image('UMN/PGC/ArcticDEM/V3/2m_mosaic')\n",
    "\n",
    "lines = ee.List.sequence(0, 3000, 250)\n",
    "\n",
    "def func_contourline(line):\n",
    "  mycontour = arcticDEM \\\n",
    "    .convolve(ee.Kernel.gaussian(5, 3)) \\\n",
    "    .subtract(ee.Image.constant(line)).zeroCrossing() \\\n",
    "    .multiply(ee.Image.constant(line)).toFloat()\n",
    "\n",
    "  return mycontour.mask(mycontour)\n",
    "\n",
    "contourlines = lines.map(func_contourline)\n",
    "\n",
    "contourlines = ee.ImageCollection(contourlines).mosaic()\n",
    "Map.addLayer(contourlines, {min: 0, max: 3000, 'palette':['00ff00', 'ff0000']}, 'contours')"
   ]
  },
  {
   "cell_type": "code",
   "execution_count": null,
   "metadata": {},
   "outputs": [],
   "source": []
  }
 ]
}