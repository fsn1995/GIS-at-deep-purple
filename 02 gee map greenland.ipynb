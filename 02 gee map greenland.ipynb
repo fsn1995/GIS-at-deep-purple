{
 "metadata": {
  "language_info": {
   "codemirror_mode": {
    "name": "ipython",
    "version": 3
   },
   "file_extension": ".py",
   "mimetype": "text/x-python",
   "name": "python",
   "nbconvert_exporter": "python",
   "pygments_lexer": "ipython3",
   "version": "3.8.0-final"
  },
  "orig_nbformat": 2,
  "kernelspec": {
   "name": "python3",
   "display_name": "Python 3.8.0 64-bit ('gee': conda)",
   "metadata": {
    "interpreter": {
     "hash": "ada930dfaf49c70a7ee64ff67ccb5b3fcbf1b37de14f1a925a66f2c79ddc67d5"
    }
   }
  }
 },
 "nbformat": 4,
 "nbformat_minor": 2,
 "cells": [
  {
   "source": [
    "# 02 GEE Map Greenland\n",
    "This is a simple exerciese of mapping Greenland with Google Earth Engine."
   ],
   "cell_type": "markdown",
   "metadata": {}
  },
  {
   "cell_type": "code",
   "execution_count": 1,
   "metadata": {},
   "outputs": [],
   "source": [
    "import pandas as pd\n",
    "import ee\n",
    "import geemap\n",
    "# import geemap.eefolium as geemap\n",
    "# ee.Initialize()"
   ]
  },
  {
   "cell_type": "code",
   "execution_count": 2,
   "metadata": {},
   "outputs": [],
   "source": [
    "df = pd.read_csv('data\\promice.csv')\n",
    "df.Longitude = df.Longitude * -1"
   ]
  },
  {
   "cell_type": "code",
   "execution_count": 3,
   "metadata": {},
   "outputs": [
    {
     "output_type": "display_data",
     "data": {
      "text/plain": "Map(center=[40, -100], controls=(WidgetControl(options=['position', 'transparent_bg'], widget=HBox(children=(T…",
      "application/vnd.jupyter.widget-view+json": {
       "version_major": 2,
       "version_minor": 0,
       "model_id": "81e8da9e672a420fbe73092d1729e7ee"
      }
     },
     "metadata": {}
    }
   ],
   "source": [
    "Map = geemap.Map()\n",
    "Map"
   ]
  },
  {
   "cell_type": "code",
   "execution_count": 4,
   "metadata": {},
   "outputs": [],
   "source": [
    "greenlandmask = ee.Image('OSU/GIMP/2000_ICE_OCEAN_MASK') \\\n",
    "                   .select('ice_mask').eq(1); #'ice_mask', 'ocean_mask'\n",
    "arcticDEM = ee.Image('UMN/PGC/ArcticDEM/V3/2m_mosaic')\n",
    "\n",
    "arcticDEMgreenland = arcticDEM.updateMask(greenlandmask)\n",
    "visPara = {'min': 0,  'max': 2000.0, 'palette': ['0d13d8', '60e1ff', 'ffffff']}\n",
    "Map.addLayer(arcticDEMgreenland, visPara, 'Arctic DEM')\n",
    "Map.setCenter(-41.0, 74.0, 3)"
   ]
  },
  {
   "cell_type": "code",
   "execution_count": 5,
   "metadata": {},
   "outputs": [],
   "source": [
    "#add colorbar\n",
    "colors = visPara['palette']\n",
    "vmin = visPara['min']\n",
    "vmax = visPara['max']\n",
    "\n",
    "# Map.add_legend(legend_title=\"ArcticDEM\",  layer_name=\"Arctic DEM\")\n",
    "Map.add_colorbar_branca(colors=colors, vmin=vmin, vmax=vmax, caption=\"m a.s.l\")"
   ]
  },
  {
   "cell_type": "code",
   "execution_count": 6,
   "metadata": {},
   "outputs": [],
   "source": [
    "for i in range(len(df)):\n",
    "    aoi = ee.Geometry.Point([df.Longitude[i], df.Latitude[i]])\n",
    "    Map.addLayer(aoi, {}, str(df.Station[i]))"
   ]
  }
 ]
}